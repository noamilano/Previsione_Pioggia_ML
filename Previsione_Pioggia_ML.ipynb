{
  "nbformat": 4,
  "nbformat_minor": 0,
  "metadata": {
    "colab": {
      "provenance": []
    },
    "kernelspec": {
      "name": "python3",
      "display_name": "Python 3"
    },
    "language_info": {
      "name": "python"
    }
  },
  "cells": [
    {
      "cell_type": "markdown",
      "source": [
        "## Introduzione\n",
        "\n",
        "L’obiettivo di questo progetto è costruire una rete neurale profonda capace di predire se pioverà il giorno successivo in diverse regioni dell’Australia, usando dati meteorologici storici. Il task è una classificazione binaria, in cui la variabile `RainTomorrow` assume 0 (non piove) o 1 (piove).\n",
        "\n",
        "Il dataset originale, ottenuto dal Bureau of Meteorology australiano (via Kaggle), conteneva 99.516 osservazioni giornaliere da oltre 10 anni di registrazioni.\n",
        "\n",
        "Il preprocessing è stato effettuato in un notebook separato (vedi [PreparingAustraliaWeatherDataset](#)), e include:\n",
        "- rimozione osservazioni incomplete,\n",
        "- normalizzazione numerica (MinMax),\n",
        "- label encoding per le variabili categoriche,\n",
        "- esportazione di un dataset pulito pronto per il training.\n",
        "\n",
        "Il dataset finale contiene 39.574 righe e 21 feature predittive più la target.\n",
        "\n"
      ],
      "metadata": {
        "id": "3gnulveRtNBo"
      }
    },
    {
      "cell_type": "markdown",
      "source": [
        "##Background e letteratura\n",
        "Recenti studi su dataset meteorologici australiani [1], [2] hanno evidenziato come le reti neurali artificiali (ANN, RNN) forniscano risultati migliori rispetto a metodi tradizionali (KNN, DT, RF) per la previsione della pioggia. In particolare, [2] mostra che combinazioni di ANN e Random Forest offrono prestazioni superiori su dati mensili australiani. Inoltre, altri lavori su modelli ibridi (MLP, ConvLSTM, CNN-LSTM) dimostrano l’efficacia delle reti profonde nella previsione meteorologica su scala globale [3]–[5]."
      ],
      "metadata": {
        "id": "itPaVSdYtgfz"
      }
    },
    {
      "cell_type": "markdown",
      "source": [
        "##Bibliografia\n",
        "[1] *M. Sarasa‑Cabezuelo, J. A. Ortega and M. L. Sein-Echaluce, “Prediction of Rainfall in Australia Using Machine Learning”* International Journal of Advanced Computer Science and Applications (IJACSA), vol. 13, no. 4, pp. 627–635, 2022.\n",
        "\n",
        "[2] *M. Farman, N. A. Bakar, and I. O. Basir, “A Comparative Study of Machine Learning and Deep Learning Models for Rainfall Prediction in Australian Cities”* International Journal of Advanced Computer Science and Applications (IJACSA), vol. 16, no. 4, pp. 735–741, 2025.\n",
        "\n",
        "[3] *A. Abbot, T. Nguyen, and L. K. Thomas, “Hybrid Neural Network Models for Monthly Rainfall Prediction: A Case Study in Queensland, Australia”* Expert Systems with Applications, vol. 220, p. 119846, 2023.\n",
        "\n",
        "[4] *A. Khan, S. Verma, and R. Gupta, “Weather Prediction Using CNN-LSTM for Time Series Analysis: A Case Study on Delhi Temperature Data”* Procedia Computer Science, vol. 218, pp. 290–298, 2023.\n",
        "\n",
        "[5] *P. N. Soman, B. G. Raj and V. Diwan, “Rainfall Prediction Using Deep Learning Techniques: A Review”* Information, vol. 13, no. 4, p. 163, 2022."
      ],
      "metadata": {
        "id": "h7lEBgzEt3BQ"
      }
    },
    {
      "cell_type": "markdown",
      "source": [
        "## Librerie"
      ],
      "metadata": {
        "id": "QwT6G08cQF12"
      }
    },
    {
      "cell_type": "code",
      "execution_count": null,
      "metadata": {
        "id": "FZrEsr4KDNx6"
      },
      "outputs": [],
      "source": [
        "import tensorflow as tf\n",
        "from tensorflow import keras\n",
        "import numpy as np\n",
        "import pandas as pd\n",
        "import matplotlib.pyplot as plt\n",
        "from sklearn.model_selection import train_test_split\n",
        "from sklearn.preprocessing import StandardScaler\n",
        "from tensorflow.keras.models import Sequential\n",
        "from tensorflow.keras.layers import InputLayer, Dense, Dropout, BatchNormalization\n",
        "from tensorflow.keras.optimizers import Adam\n",
        "from tensorflow.keras import regularizers\n",
        "from sklearn.metrics import classification_report, confusion_matrix"
      ]
    },
    {
      "cell_type": "code",
      "source": [
        "from google.colab import drive\n",
        "drive.mount('/gdrive', force_remount=True)"
      ],
      "metadata": {
        "colab": {
          "base_uri": "https://localhost:8080/"
        },
        "id": "c-cYTTlBQr9D",
        "outputId": "04c2f432-b873-46d6-9999-15edf973e52a"
      },
      "execution_count": null,
      "outputs": [
        {
          "output_type": "stream",
          "name": "stdout",
          "text": [
            "Mounted at /gdrive\n"
          ]
        }
      ]
    },
    {
      "cell_type": "markdown",
      "source": [
        "## Importazione dei dati e analisi preliminare\n",
        "\n",
        "Nel notebook di preprocessing è stata eseguita una prima analisi delle correlazioni, che ha evidenziato una correlazione positiva tra `Humidity3pm` e `RainTomorrow` (+0.45), e negativa con `Sunshine` (-0.45).\n",
        "\n",
        "Per quanto riguarda la distribuzione delle classi della variabile target (`RainTomorrow`), è risultata **sbilanciata**, con la classe “No Rain” molto più frequente della classe “Rain”.\n",
        "\n",
        "Non sono state applicate tecniche di bilanciamento durante il preprocessing (come oversampling o undersampling), le classi risultano sufficientemente bilanciate.\n"
      ],
      "metadata": {
        "id": "fUSpnRofLCMx"
      }
    },
    {
      "cell_type": "code",
      "source": [
        "# File ottenuti dopo la pulizia dei dati\n",
        "ATT_FILE= \"/gdrive/My Drive/Colab Notebooks/datasets/AustraliaWeather/AustraliaWeatherPreparedCleanAttributes.csv\"\n",
        "LABEL_FILE= \"/gdrive/My Drive/Colab Notebooks/datasets/AustraliaWeather/AustraliaWeatherOutput.csv\"\n",
        "# L'80% del dataset sarà per allenare\n",
        "TRAIN_RATE=0.8\n",
        "attributes = pd.read_csv(ATT_FILE)\n",
        "label = pd.read_csv(LABEL_FILE)\n",
        "# NUmero di istante totale\n",
        "n_instances = attributes.shape[0]\n",
        "#  NUmero di istante per allenare (80%)\n",
        "n_train = int(n_instances*TRAIN_RATE)\n",
        "# # Numero di istanze da utilizzare per la fase di sviluppo (10%) [Validation set]\n",
        "n_dev = int((n_instances-n_train)/2)\n",
        "# Dati di addestramento\n",
        "  # Attributi di input\n",
        "x_train = attributes.values[:n_train]\n",
        "  # Output desiderati per ogni input -> APPRENDIMENTO SUPERVISIONATO\n",
        "t_train = label.values[:n_train]\n",
        "# Dati per la validazione durante la fase di sviluppo (partendo dalla fine dell'addestramento)\n",
        "x_dev = attributes.values[n_train:n_train+n_dev]\n",
        "t_dev = label.values[n_train:n_train+n_dev]\n",
        "\n",
        "# Numero totale di istanze\n",
        "print(\"n_instances:\",n_instances)\n",
        "# Mostra il numero di righe e colonne di ciascun sottoinsieme di dati\n",
        "print (\"x_train:\",x_train.shape)\n",
        "print (\"t_train:\",t_train.shape)\n",
        "\n",
        "print (\"x_dev:\",x_dev.shape)\n",
        "print (\"t_dev:\",t_dev.shape)"
      ],
      "metadata": {
        "colab": {
          "base_uri": "https://localhost:8080/"
        },
        "id": "R0zJz3HwJICD",
        "outputId": "20a7f5d0-9a3d-440a-b725-2e3f3d7a3d98"
      },
      "execution_count": null,
      "outputs": [
        {
          "output_type": "stream",
          "name": "stdout",
          "text": [
            "n_instances: 39574\n",
            "x_train: (31659, 21)\n",
            "t_train: (31659, 1)\n",
            "x_dev: (3957, 21)\n",
            "t_dev: (3957, 1)\n"
          ]
        }
      ]
    },
    {
      "cell_type": "code",
      "source": [
        "# Prime 5 istanze degli attributi di input, dataset di addestramento\n",
        "x_train[:5]"
      ],
      "metadata": {
        "colab": {
          "base_uri": "https://localhost:8080/"
        },
        "collapsed": true,
        "id": "BP_vKXK51qPo",
        "outputId": "259a5462-9184-4e66-d1ca-46548eabdfa4"
      },
      "execution_count": null,
      "outputs": [
        {
          "output_type": "execute_result",
          "data": {
            "text/plain": [
              "array([[-0.2       , -0.56955381, -0.48905109, -1.        , -0.95073892,\n",
              "         0.2137931 ,  0.6       , -0.84070796, -1.        ,  0.6       ,\n",
              "        -0.84615385, -0.75675676,  0.82      , -0.1       ,  0.5041876 ,\n",
              "         0.51945854, -1.        , -0.33333333, -0.62720403, -0.38277512,\n",
              "        -1.        ],\n",
              "       [-0.12      ,  0.13385827,  0.28953771, -1.        , -0.72413793,\n",
              "        -0.40689655,  1.        , -0.57522124, -0.86666667,  1.        ,\n",
              "        -0.72307692, -0.40540541, -0.22      , -0.44      , -0.18592965,\n",
              "        -0.14720812, -0.5       ,  0.55555556,  0.31486146,  0.31100478,\n",
              "        -1.        ],\n",
              "       [ 0.84      , -0.00262467, -0.24087591, -1.        , -0.8226601 ,\n",
              "         0.55862069, -0.6       , -0.04424779, -0.2       , -0.06666667,\n",
              "        -0.38461538, -0.45945946,  0.24      ,  0.22      , -0.14237856,\n",
              "        -0.19458545,  0.5       ,  0.11111111, -0.17380353, -0.32057416,\n",
              "        -1.        ],\n",
              "       [ 0.36      , -0.00787402,  0.05596107, -1.        , -0.86699507,\n",
              "        -0.84827586, -0.06666667, -0.15044248, -0.6       , -0.2       ,\n",
              "        -0.6       , -0.24324324,  0.18      , -0.52      ,  0.13902848,\n",
              "         0.07952623,  1.        ,  0.55555556, -0.08816121,  0.1291866 ,\n",
              "        -1.        ],\n",
              "       [-0.36      ,  0.03412073, -0.03163017, -1.        , -0.91625616,\n",
              "         0.00689655, -0.2       , -0.6460177 , -0.33333333, -0.6       ,\n",
              "        -0.84615385, -0.59459459,  0.92      , -0.2       ,  0.59798995,\n",
              "         0.55329949,  0.75      ,  0.55555556, -0.22921914,  0.04784689,\n",
              "        -1.        ]])"
            ]
          },
          "metadata": {},
          "execution_count": 4
        }
      ]
    },
    {
      "cell_type": "code",
      "source": [
        "# Prime 5 istanze degli output desiderati, dataset di addestramento\n",
        "t_train[:5]"
      ],
      "metadata": {
        "colab": {
          "base_uri": "https://localhost:8080/"
        },
        "id": "1nU-PB_a1-eH",
        "outputId": "4f48e65f-02ee-4579-8b5c-e63f8804ca5f"
      },
      "execution_count": null,
      "outputs": [
        {
          "output_type": "execute_result",
          "data": {
            "text/plain": [
              "array([[0],\n",
              "       [0],\n",
              "       [1],\n",
              "       [1],\n",
              "       [0]])"
            ]
          },
          "metadata": {},
          "execution_count": 5
        }
      ]
    },
    {
      "cell_type": "code",
      "source": [
        "# Prime 5 istanze degli attributi di input, dataset di validazione\n",
        "x_dev[:5]"
      ],
      "metadata": {
        "colab": {
          "base_uri": "https://localhost:8080/"
        },
        "id": "cF5jnfsp2m12",
        "outputId": "1fe1946f-eb9b-4fee-a9aa-51a37ec21506"
      },
      "execution_count": null,
      "outputs": [
        {
          "output_type": "execute_result",
          "data": {
            "text/plain": [
              "array([[-0.84      ,  0.41207349,  0.13868613, -1.        , -0.86206897,\n",
              "         0.44827586,  0.2       , -0.53982301,  0.33333333,  0.2       ,\n",
              "        -0.78461538, -0.40540541,  0.3       ,  0.08      ,  0.10552764,\n",
              "         0.10659898,  0.        , -0.11111111,  0.35012594,  0.16746411,\n",
              "        -1.        ],\n",
              "       [-0.84      ,  0.59055118,  0.22141119, -1.        , -0.84236453,\n",
              "         0.37931034,  0.2       , -0.53982301,  0.33333333, -1.        ,\n",
              "        -0.66153846, -0.40540541,  0.3       , -0.12      , -0.00837521,\n",
              "         0.01184433, -0.25      ,  0.55555556,  0.47607053,  0.28708134,\n",
              "        -1.        ],\n",
              "       [ 0.84      ,  0.2335958 , -0.28467153, -1.        , -0.79802956,\n",
              "        -0.1862069 ,  1.        , -0.27433628, -0.06666667,  0.73333333,\n",
              "        -0.47692308, -0.40540541,  0.02      ,  0.08      , -0.14237856,\n",
              "         0.08291032, -0.25      ,  0.55555556,  0.00755668, -0.29186603,\n",
              "        -1.        ],\n",
              "       [ 0.84      ,  0.0656168 , -0.42579075, -1.        , -0.81773399,\n",
              "        -1.        , -0.6       , -0.11504425, -0.6       , -0.6       ,\n",
              "        -0.13846154, -0.54054054,  0.28      ,  0.54      , -0.25293132,\n",
              "        -0.31641286,  1.        ,  0.55555556, -0.04282116, -0.40191388,\n",
              "        -1.        ],\n",
              "       [-0.36      ,  0.18635171, -0.08029197, -1.        , -0.81773399,\n",
              "         0.48965517,  0.33333333, -0.46902655,  0.6       ,  0.46666667,\n",
              "        -0.66153846, -0.59459459,  0.44      , -0.04      ,  0.2361809 ,\n",
              "         0.35025381,  0.5       , -0.33333333, -0.02267003, -0.00478469,\n",
              "        -1.        ]])"
            ]
          },
          "metadata": {},
          "execution_count": 6
        }
      ]
    },
    {
      "cell_type": "code",
      "source": [
        "# Prime 5 istanze degli output desiderati, dataset di validazione\n",
        "t_dev[:5]"
      ],
      "metadata": {
        "colab": {
          "base_uri": "https://localhost:8080/"
        },
        "id": "pSxrDndE22Zv",
        "outputId": "d4aee84b-d4af-4daa-a0c5-c29402b4bfd0"
      },
      "execution_count": null,
      "outputs": [
        {
          "output_type": "execute_result",
          "data": {
            "text/plain": [
              "array([[0],\n",
              "       [1],\n",
              "       [1],\n",
              "       [1],\n",
              "       [0]])"
            ]
          },
          "metadata": {},
          "execution_count": 7
        }
      ]
    },
    {
      "cell_type": "markdown",
      "source": [
        "## Inizializzazione variabili"
      ],
      "metadata": {
        "id": "vjL4QRKDzRiL"
      }
    },
    {
      "cell_type": "code",
      "source": [
        "# Numero di colonne dei dataframe\n",
        "INPUTS = x_train.shape[1]\n",
        "OUTPUTS = t_train.shape[1]\n",
        "# Numero di righe dei dataframe\n",
        "NUM_TRAINING_EXAMPLES = x_train.shape[0]\n",
        "NUM_DEV_EXAMPLES = x_dev.shape[0]"
      ],
      "metadata": {
        "id": "ajXzNzL8JHfL"
      },
      "execution_count": null,
      "outputs": []
    },
    {
      "cell_type": "markdown",
      "source": [
        "## Iperparametri: giustificazione della scelta\n",
        "\n",
        "**Numero di epoche**  \n",
        "È stato scelto un valore elevato (150) per garantire che il modello abbia abbastanza tempo per apprendere correttamente. Tuttavia, viene monitorato il rischio di overfitting: se l’accuratezza sul training aumenta mentre quella sul validation peggiora, interviene il meccanismo di *EarlyStopping* per fermare l’addestramento e ripristinare i pesi migliori.\n",
        "\n",
        "**Tasso di apprendimento (Learning Rate)**  \n",
        "Un learning rate basso (0.001) consente al modello di apprendere in modo stabile, evitando oscillazioni eccessive nella funzione di perdita. Un valore troppo alto potrebbe impedire la convergenza, mentre uno troppo basso renderebbe l’apprendimento troppo lento.\n",
        "\n",
        "**Dimensione del batch (Batch Size)**  \n",
        "È stato scelto un batch size intermedio (64) per bilanciare precisione e velocità di addestramento. Batch troppo piccoli possono introdurre rumore nel processo di ottimizzazione, mentre batch troppo grandi possono richiedere molta memoria e ridurre la capacità del modello di generalizzare.\n"
      ],
      "metadata": {
        "id": "1roFF5PWLOJ8"
      }
    },
    {
      "cell_type": "code",
      "source": [
        "# Parametri principali per l'addestramento\n",
        "n_epochs = 150\n",
        "learning_rate = 0.001\n",
        "batch_size = 64\n",
        "# Numero di neuroni per ciascuno hidden layer\n",
        "# n_neurons_per_layer = [256, 128, 64, 32, 8]"
      ],
      "metadata": {
        "id": "oVFm3_nK3ZpO"
      },
      "execution_count": null,
      "outputs": []
    },
    {
      "cell_type": "markdown",
      "source": [
        "## Architettura della rete\n",
        "\n",
        "Il modello finale selezionato ha la seguente architettura:\n",
        "- Input: 21 feature\n",
        "- Hidden Layers: 512 → 256 → 128 → 64 → 32 → 8\n",
        "- Output: 1 neurone (sigmoid)\n",
        "\n",
        "Attivazione: ReLU per i layer nascosti, sigmoide per l’output.  \n",
        "Funzione di perdita: Binary Crossentropy  \n",
        "Ottimizzatore: Adam (confrontato con altri)  \n",
        "Callbacks: EarlyStopping e ReduceLROnPlateau  \n",
        "Batch size: 64 — Learning rate: 0.001 — Epochs: 150\n",
        "\n",
        "La scelta dell’architettura è stata giustificata con test empirici su bias e varianza, scegliendo il miglior compromesso tra accuratezza e generalizzazione.\n"
      ],
      "metadata": {
        "id": "j2a_O5SNxXTb"
      }
    },
    {
      "cell_type": "markdown",
      "source": [
        "## Costruzione della rete neuronale profonda"
      ],
      "metadata": {
        "id": "lXUPGiEVAsvp"
      }
    },
    {
      "cell_type": "code",
      "source": [
        "# Architettura della rete: 21-512-256-128-64-32-8-1\n",
        "# Si crea un modello sequenziale in Keras in cui gli strati sono impilati uno dopo l'altro\n",
        "model = Sequential([\n",
        "    # layer iniziale\n",
        "    keras.layers.InputLayer(shape=(INPUTS,), batch_size=None),\n",
        "    # layers nascosti\n",
        "    # Si utilizza la funzione di attivazione ReLU, quindi è consigliabile l'inizializzazione HeNormal (aiuta la convergenza più rapida)\n",
        "    Dense(512,activation='relu',kernel_initializer=keras.initializers.HeNormal(seed=None)),\n",
        "    # Normalizzazione Batch dopo la funzione di attivazione (opzionale, provare senza prima di normalizzare)\n",
        "    BatchNormalization(),\n",
        "    # Tecnica di regolarizzazione Dropout (dropout rate 0.25 = probabilità che una neurone resti attiva 0.75)\n",
        "    Dropout(rate=0.25),\n",
        "    Dense(256,activation='relu',kernel_initializer=keras.initializers.HeNormal(seed=None)),\n",
        "    BatchNormalization(),\n",
        "    Dropout(rate=0.25),\n",
        "    Dense(128,activation='relu',kernel_initializer=keras.initializers.HeNormal(seed=None)),\n",
        "    BatchNormalization(),\n",
        "    Dropout(rate=0.25),\n",
        "    Dense(64,activation='relu',kernel_initializer=keras.initializers.HeNormal(seed=None)),\n",
        "    BatchNormalization(),\n",
        "    Dropout(rate=0.25),\n",
        "    Dense(32,activation='relu',kernel_initializer=keras.initializers.HeNormal(seed=None)),\n",
        "    BatchNormalization(),\n",
        "    Dropout(rate=0.25),\n",
        "    Dense(8,activation='relu',kernel_initializer=keras.initializers.HeNormal(seed=None)),\n",
        "    BatchNormalization(),\n",
        "    Dropout(rate=0.25),\n",
        "    # Strato di output: trattandosi di una sola unità, è consigliata la funzione di attivazione sigmoide\n",
        "    Dense(OUTPUTS, activation='sigmoid')\n",
        "])\n",
        "\n",
        "model.summary()"
      ],
      "metadata": {
        "id": "XSFlRLTSA2yA",
        "colab": {
          "base_uri": "https://localhost:8080/",
          "height": 833
        },
        "outputId": "254b4d56-59a0-4a10-a747-7c4799716d5f"
      },
      "execution_count": null,
      "outputs": [
        {
          "output_type": "display_data",
          "data": {
            "text/plain": [
              "\u001b[1mModel: \"sequential\"\u001b[0m\n"
            ],
            "text/html": [
              "<pre style=\"white-space:pre;overflow-x:auto;line-height:normal;font-family:Menlo,'DejaVu Sans Mono',consolas,'Courier New',monospace\"><span style=\"font-weight: bold\">Model: \"sequential\"</span>\n",
              "</pre>\n"
            ]
          },
          "metadata": {}
        },
        {
          "output_type": "display_data",
          "data": {
            "text/plain": [
              "┏━━━━━━━━━━━━━━━━━━━━━━━━━━━━━━━━━┳━━━━━━━━━━━━━━━━━━━━━━━━┳━━━━━━━━━━━━━━━┓\n",
              "┃\u001b[1m \u001b[0m\u001b[1mLayer (type)                   \u001b[0m\u001b[1m \u001b[0m┃\u001b[1m \u001b[0m\u001b[1mOutput Shape          \u001b[0m\u001b[1m \u001b[0m┃\u001b[1m \u001b[0m\u001b[1m      Param #\u001b[0m\u001b[1m \u001b[0m┃\n",
              "┡━━━━━━━━━━━━━━━━━━━━━━━━━━━━━━━━━╇━━━━━━━━━━━━━━━━━━━━━━━━╇━━━━━━━━━━━━━━━┩\n",
              "│ dense (\u001b[38;5;33mDense\u001b[0m)                   │ (\u001b[38;5;45mNone\u001b[0m, \u001b[38;5;34m512\u001b[0m)            │        \u001b[38;5;34m11,264\u001b[0m │\n",
              "├─────────────────────────────────┼────────────────────────┼───────────────┤\n",
              "│ batch_normalization             │ (\u001b[38;5;45mNone\u001b[0m, \u001b[38;5;34m512\u001b[0m)            │         \u001b[38;5;34m2,048\u001b[0m │\n",
              "│ (\u001b[38;5;33mBatchNormalization\u001b[0m)            │                        │               │\n",
              "├─────────────────────────────────┼────────────────────────┼───────────────┤\n",
              "│ dropout (\u001b[38;5;33mDropout\u001b[0m)               │ (\u001b[38;5;45mNone\u001b[0m, \u001b[38;5;34m512\u001b[0m)            │             \u001b[38;5;34m0\u001b[0m │\n",
              "├─────────────────────────────────┼────────────────────────┼───────────────┤\n",
              "│ dense_1 (\u001b[38;5;33mDense\u001b[0m)                 │ (\u001b[38;5;45mNone\u001b[0m, \u001b[38;5;34m256\u001b[0m)            │       \u001b[38;5;34m131,328\u001b[0m │\n",
              "├─────────────────────────────────┼────────────────────────┼───────────────┤\n",
              "│ batch_normalization_1           │ (\u001b[38;5;45mNone\u001b[0m, \u001b[38;5;34m256\u001b[0m)            │         \u001b[38;5;34m1,024\u001b[0m │\n",
              "│ (\u001b[38;5;33mBatchNormalization\u001b[0m)            │                        │               │\n",
              "├─────────────────────────────────┼────────────────────────┼───────────────┤\n",
              "│ dropout_1 (\u001b[38;5;33mDropout\u001b[0m)             │ (\u001b[38;5;45mNone\u001b[0m, \u001b[38;5;34m256\u001b[0m)            │             \u001b[38;5;34m0\u001b[0m │\n",
              "├─────────────────────────────────┼────────────────────────┼───────────────┤\n",
              "│ dense_2 (\u001b[38;5;33mDense\u001b[0m)                 │ (\u001b[38;5;45mNone\u001b[0m, \u001b[38;5;34m128\u001b[0m)            │        \u001b[38;5;34m32,896\u001b[0m │\n",
              "├─────────────────────────────────┼────────────────────────┼───────────────┤\n",
              "│ batch_normalization_2           │ (\u001b[38;5;45mNone\u001b[0m, \u001b[38;5;34m128\u001b[0m)            │           \u001b[38;5;34m512\u001b[0m │\n",
              "│ (\u001b[38;5;33mBatchNormalization\u001b[0m)            │                        │               │\n",
              "├─────────────────────────────────┼────────────────────────┼───────────────┤\n",
              "│ dropout_2 (\u001b[38;5;33mDropout\u001b[0m)             │ (\u001b[38;5;45mNone\u001b[0m, \u001b[38;5;34m128\u001b[0m)            │             \u001b[38;5;34m0\u001b[0m │\n",
              "├─────────────────────────────────┼────────────────────────┼───────────────┤\n",
              "│ dense_3 (\u001b[38;5;33mDense\u001b[0m)                 │ (\u001b[38;5;45mNone\u001b[0m, \u001b[38;5;34m64\u001b[0m)             │         \u001b[38;5;34m8,256\u001b[0m │\n",
              "├─────────────────────────────────┼────────────────────────┼───────────────┤\n",
              "│ batch_normalization_3           │ (\u001b[38;5;45mNone\u001b[0m, \u001b[38;5;34m64\u001b[0m)             │           \u001b[38;5;34m256\u001b[0m │\n",
              "│ (\u001b[38;5;33mBatchNormalization\u001b[0m)            │                        │               │\n",
              "├─────────────────────────────────┼────────────────────────┼───────────────┤\n",
              "│ dropout_3 (\u001b[38;5;33mDropout\u001b[0m)             │ (\u001b[38;5;45mNone\u001b[0m, \u001b[38;5;34m64\u001b[0m)             │             \u001b[38;5;34m0\u001b[0m │\n",
              "├─────────────────────────────────┼────────────────────────┼───────────────┤\n",
              "│ dense_4 (\u001b[38;5;33mDense\u001b[0m)                 │ (\u001b[38;5;45mNone\u001b[0m, \u001b[38;5;34m32\u001b[0m)             │         \u001b[38;5;34m2,080\u001b[0m │\n",
              "├─────────────────────────────────┼────────────────────────┼───────────────┤\n",
              "│ batch_normalization_4           │ (\u001b[38;5;45mNone\u001b[0m, \u001b[38;5;34m32\u001b[0m)             │           \u001b[38;5;34m128\u001b[0m │\n",
              "│ (\u001b[38;5;33mBatchNormalization\u001b[0m)            │                        │               │\n",
              "├─────────────────────────────────┼────────────────────────┼───────────────┤\n",
              "│ dropout_4 (\u001b[38;5;33mDropout\u001b[0m)             │ (\u001b[38;5;45mNone\u001b[0m, \u001b[38;5;34m32\u001b[0m)             │             \u001b[38;5;34m0\u001b[0m │\n",
              "├─────────────────────────────────┼────────────────────────┼───────────────┤\n",
              "│ dense_5 (\u001b[38;5;33mDense\u001b[0m)                 │ (\u001b[38;5;45mNone\u001b[0m, \u001b[38;5;34m8\u001b[0m)              │           \u001b[38;5;34m264\u001b[0m │\n",
              "├─────────────────────────────────┼────────────────────────┼───────────────┤\n",
              "│ batch_normalization_5           │ (\u001b[38;5;45mNone\u001b[0m, \u001b[38;5;34m8\u001b[0m)              │            \u001b[38;5;34m32\u001b[0m │\n",
              "│ (\u001b[38;5;33mBatchNormalization\u001b[0m)            │                        │               │\n",
              "├─────────────────────────────────┼────────────────────────┼───────────────┤\n",
              "│ dropout_5 (\u001b[38;5;33mDropout\u001b[0m)             │ (\u001b[38;5;45mNone\u001b[0m, \u001b[38;5;34m8\u001b[0m)              │             \u001b[38;5;34m0\u001b[0m │\n",
              "├─────────────────────────────────┼────────────────────────┼───────────────┤\n",
              "│ dense_6 (\u001b[38;5;33mDense\u001b[0m)                 │ (\u001b[38;5;45mNone\u001b[0m, \u001b[38;5;34m1\u001b[0m)              │             \u001b[38;5;34m9\u001b[0m │\n",
              "└─────────────────────────────────┴────────────────────────┴───────────────┘\n"
            ],
            "text/html": [
              "<pre style=\"white-space:pre;overflow-x:auto;line-height:normal;font-family:Menlo,'DejaVu Sans Mono',consolas,'Courier New',monospace\">┏━━━━━━━━━━━━━━━━━━━━━━━━━━━━━━━━━┳━━━━━━━━━━━━━━━━━━━━━━━━┳━━━━━━━━━━━━━━━┓\n",
              "┃<span style=\"font-weight: bold\"> Layer (type)                    </span>┃<span style=\"font-weight: bold\"> Output Shape           </span>┃<span style=\"font-weight: bold\">       Param # </span>┃\n",
              "┡━━━━━━━━━━━━━━━━━━━━━━━━━━━━━━━━━╇━━━━━━━━━━━━━━━━━━━━━━━━╇━━━━━━━━━━━━━━━┩\n",
              "│ dense (<span style=\"color: #0087ff; text-decoration-color: #0087ff\">Dense</span>)                   │ (<span style=\"color: #00d7ff; text-decoration-color: #00d7ff\">None</span>, <span style=\"color: #00af00; text-decoration-color: #00af00\">512</span>)            │        <span style=\"color: #00af00; text-decoration-color: #00af00\">11,264</span> │\n",
              "├─────────────────────────────────┼────────────────────────┼───────────────┤\n",
              "│ batch_normalization             │ (<span style=\"color: #00d7ff; text-decoration-color: #00d7ff\">None</span>, <span style=\"color: #00af00; text-decoration-color: #00af00\">512</span>)            │         <span style=\"color: #00af00; text-decoration-color: #00af00\">2,048</span> │\n",
              "│ (<span style=\"color: #0087ff; text-decoration-color: #0087ff\">BatchNormalization</span>)            │                        │               │\n",
              "├─────────────────────────────────┼────────────────────────┼───────────────┤\n",
              "│ dropout (<span style=\"color: #0087ff; text-decoration-color: #0087ff\">Dropout</span>)               │ (<span style=\"color: #00d7ff; text-decoration-color: #00d7ff\">None</span>, <span style=\"color: #00af00; text-decoration-color: #00af00\">512</span>)            │             <span style=\"color: #00af00; text-decoration-color: #00af00\">0</span> │\n",
              "├─────────────────────────────────┼────────────────────────┼───────────────┤\n",
              "│ dense_1 (<span style=\"color: #0087ff; text-decoration-color: #0087ff\">Dense</span>)                 │ (<span style=\"color: #00d7ff; text-decoration-color: #00d7ff\">None</span>, <span style=\"color: #00af00; text-decoration-color: #00af00\">256</span>)            │       <span style=\"color: #00af00; text-decoration-color: #00af00\">131,328</span> │\n",
              "├─────────────────────────────────┼────────────────────────┼───────────────┤\n",
              "│ batch_normalization_1           │ (<span style=\"color: #00d7ff; text-decoration-color: #00d7ff\">None</span>, <span style=\"color: #00af00; text-decoration-color: #00af00\">256</span>)            │         <span style=\"color: #00af00; text-decoration-color: #00af00\">1,024</span> │\n",
              "│ (<span style=\"color: #0087ff; text-decoration-color: #0087ff\">BatchNormalization</span>)            │                        │               │\n",
              "├─────────────────────────────────┼────────────────────────┼───────────────┤\n",
              "│ dropout_1 (<span style=\"color: #0087ff; text-decoration-color: #0087ff\">Dropout</span>)             │ (<span style=\"color: #00d7ff; text-decoration-color: #00d7ff\">None</span>, <span style=\"color: #00af00; text-decoration-color: #00af00\">256</span>)            │             <span style=\"color: #00af00; text-decoration-color: #00af00\">0</span> │\n",
              "├─────────────────────────────────┼────────────────────────┼───────────────┤\n",
              "│ dense_2 (<span style=\"color: #0087ff; text-decoration-color: #0087ff\">Dense</span>)                 │ (<span style=\"color: #00d7ff; text-decoration-color: #00d7ff\">None</span>, <span style=\"color: #00af00; text-decoration-color: #00af00\">128</span>)            │        <span style=\"color: #00af00; text-decoration-color: #00af00\">32,896</span> │\n",
              "├─────────────────────────────────┼────────────────────────┼───────────────┤\n",
              "│ batch_normalization_2           │ (<span style=\"color: #00d7ff; text-decoration-color: #00d7ff\">None</span>, <span style=\"color: #00af00; text-decoration-color: #00af00\">128</span>)            │           <span style=\"color: #00af00; text-decoration-color: #00af00\">512</span> │\n",
              "│ (<span style=\"color: #0087ff; text-decoration-color: #0087ff\">BatchNormalization</span>)            │                        │               │\n",
              "├─────────────────────────────────┼────────────────────────┼───────────────┤\n",
              "│ dropout_2 (<span style=\"color: #0087ff; text-decoration-color: #0087ff\">Dropout</span>)             │ (<span style=\"color: #00d7ff; text-decoration-color: #00d7ff\">None</span>, <span style=\"color: #00af00; text-decoration-color: #00af00\">128</span>)            │             <span style=\"color: #00af00; text-decoration-color: #00af00\">0</span> │\n",
              "├─────────────────────────────────┼────────────────────────┼───────────────┤\n",
              "│ dense_3 (<span style=\"color: #0087ff; text-decoration-color: #0087ff\">Dense</span>)                 │ (<span style=\"color: #00d7ff; text-decoration-color: #00d7ff\">None</span>, <span style=\"color: #00af00; text-decoration-color: #00af00\">64</span>)             │         <span style=\"color: #00af00; text-decoration-color: #00af00\">8,256</span> │\n",
              "├─────────────────────────────────┼────────────────────────┼───────────────┤\n",
              "│ batch_normalization_3           │ (<span style=\"color: #00d7ff; text-decoration-color: #00d7ff\">None</span>, <span style=\"color: #00af00; text-decoration-color: #00af00\">64</span>)             │           <span style=\"color: #00af00; text-decoration-color: #00af00\">256</span> │\n",
              "│ (<span style=\"color: #0087ff; text-decoration-color: #0087ff\">BatchNormalization</span>)            │                        │               │\n",
              "├─────────────────────────────────┼────────────────────────┼───────────────┤\n",
              "│ dropout_3 (<span style=\"color: #0087ff; text-decoration-color: #0087ff\">Dropout</span>)             │ (<span style=\"color: #00d7ff; text-decoration-color: #00d7ff\">None</span>, <span style=\"color: #00af00; text-decoration-color: #00af00\">64</span>)             │             <span style=\"color: #00af00; text-decoration-color: #00af00\">0</span> │\n",
              "├─────────────────────────────────┼────────────────────────┼───────────────┤\n",
              "│ dense_4 (<span style=\"color: #0087ff; text-decoration-color: #0087ff\">Dense</span>)                 │ (<span style=\"color: #00d7ff; text-decoration-color: #00d7ff\">None</span>, <span style=\"color: #00af00; text-decoration-color: #00af00\">32</span>)             │         <span style=\"color: #00af00; text-decoration-color: #00af00\">2,080</span> │\n",
              "├─────────────────────────────────┼────────────────────────┼───────────────┤\n",
              "│ batch_normalization_4           │ (<span style=\"color: #00d7ff; text-decoration-color: #00d7ff\">None</span>, <span style=\"color: #00af00; text-decoration-color: #00af00\">32</span>)             │           <span style=\"color: #00af00; text-decoration-color: #00af00\">128</span> │\n",
              "│ (<span style=\"color: #0087ff; text-decoration-color: #0087ff\">BatchNormalization</span>)            │                        │               │\n",
              "├─────────────────────────────────┼────────────────────────┼───────────────┤\n",
              "│ dropout_4 (<span style=\"color: #0087ff; text-decoration-color: #0087ff\">Dropout</span>)             │ (<span style=\"color: #00d7ff; text-decoration-color: #00d7ff\">None</span>, <span style=\"color: #00af00; text-decoration-color: #00af00\">32</span>)             │             <span style=\"color: #00af00; text-decoration-color: #00af00\">0</span> │\n",
              "├─────────────────────────────────┼────────────────────────┼───────────────┤\n",
              "│ dense_5 (<span style=\"color: #0087ff; text-decoration-color: #0087ff\">Dense</span>)                 │ (<span style=\"color: #00d7ff; text-decoration-color: #00d7ff\">None</span>, <span style=\"color: #00af00; text-decoration-color: #00af00\">8</span>)              │           <span style=\"color: #00af00; text-decoration-color: #00af00\">264</span> │\n",
              "├─────────────────────────────────┼────────────────────────┼───────────────┤\n",
              "│ batch_normalization_5           │ (<span style=\"color: #00d7ff; text-decoration-color: #00d7ff\">None</span>, <span style=\"color: #00af00; text-decoration-color: #00af00\">8</span>)              │            <span style=\"color: #00af00; text-decoration-color: #00af00\">32</span> │\n",
              "│ (<span style=\"color: #0087ff; text-decoration-color: #0087ff\">BatchNormalization</span>)            │                        │               │\n",
              "├─────────────────────────────────┼────────────────────────┼───────────────┤\n",
              "│ dropout_5 (<span style=\"color: #0087ff; text-decoration-color: #0087ff\">Dropout</span>)             │ (<span style=\"color: #00d7ff; text-decoration-color: #00d7ff\">None</span>, <span style=\"color: #00af00; text-decoration-color: #00af00\">8</span>)              │             <span style=\"color: #00af00; text-decoration-color: #00af00\">0</span> │\n",
              "├─────────────────────────────────┼────────────────────────┼───────────────┤\n",
              "│ dense_6 (<span style=\"color: #0087ff; text-decoration-color: #0087ff\">Dense</span>)                 │ (<span style=\"color: #00d7ff; text-decoration-color: #00d7ff\">None</span>, <span style=\"color: #00af00; text-decoration-color: #00af00\">1</span>)              │             <span style=\"color: #00af00; text-decoration-color: #00af00\">9</span> │\n",
              "└─────────────────────────────────┴────────────────────────┴───────────────┘\n",
              "</pre>\n"
            ]
          },
          "metadata": {}
        },
        {
          "output_type": "display_data",
          "data": {
            "text/plain": [
              "\u001b[1m Total params: \u001b[0m\u001b[38;5;34m190,097\u001b[0m (742.57 KB)\n"
            ],
            "text/html": [
              "<pre style=\"white-space:pre;overflow-x:auto;line-height:normal;font-family:Menlo,'DejaVu Sans Mono',consolas,'Courier New',monospace\"><span style=\"font-weight: bold\"> Total params: </span><span style=\"color: #00af00; text-decoration-color: #00af00\">190,097</span> (742.57 KB)\n",
              "</pre>\n"
            ]
          },
          "metadata": {}
        },
        {
          "output_type": "display_data",
          "data": {
            "text/plain": [
              "\u001b[1m Trainable params: \u001b[0m\u001b[38;5;34m188,097\u001b[0m (734.75 KB)\n"
            ],
            "text/html": [
              "<pre style=\"white-space:pre;overflow-x:auto;line-height:normal;font-family:Menlo,'DejaVu Sans Mono',consolas,'Courier New',monospace\"><span style=\"font-weight: bold\"> Trainable params: </span><span style=\"color: #00af00; text-decoration-color: #00af00\">188,097</span> (734.75 KB)\n",
              "</pre>\n"
            ]
          },
          "metadata": {}
        },
        {
          "output_type": "display_data",
          "data": {
            "text/plain": [
              "\u001b[1m Non-trainable params: \u001b[0m\u001b[38;5;34m2,000\u001b[0m (7.81 KB)\n"
            ],
            "text/html": [
              "<pre style=\"white-space:pre;overflow-x:auto;line-height:normal;font-family:Menlo,'DejaVu Sans Mono',consolas,'Courier New',monospace\"><span style=\"font-weight: bold\"> Non-trainable params: </span><span style=\"color: #00af00; text-decoration-color: #00af00\">2,000</span> (7.81 KB)\n",
              "</pre>\n"
            ]
          },
          "metadata": {}
        }
      ]
    },
    {
      "cell_type": "code",
      "source": [
        "# ALGORITMI DI OTTIMIZZAZIONE: (per ridurre il bias) — testarli tutti e confrontare\n",
        "\n",
        "# GRADIENT DESCENT\n",
        "# optimizer = tf.keras.optimizers.SGD(learning_rate=learning_rate)\n",
        "\n",
        "# LEARNING RATE DECAY (testare senza callback ReduceLROnPlateau per evitare conflitti)\n",
        "# lr_schedule = tf.keras.optimizers.schedules.ExponentialDecay(\n",
        "#     learning_rate, decay_steps=10000, decay_rate=0.96, staircase=True)\n",
        "# optimizer = tf.keras.optimizers.SGD(learning_rate=lr_schedule)\n",
        "\n",
        "# MOMENTUM e NESTEROV\n",
        "# optimizer = tf.keras.optimizers.SGD(learning_rate=learning_rate, momentum=0.9, nesterov=True)\n",
        "\n",
        "# RMSprop\n",
        "# optimizer = tf.keras.optimizers.RMSprop(learning_rate=learning_rate, rho=0.9)\n",
        "\n",
        "# ADAM (combina momentum e RMSprop)\n",
        "optimizer = Adam(learning_rate=learning_rate, beta_1=0.9, beta_2=0.999)\n",
        "\n",
        "# Compilazione del modello con ottimizzatore Adam,\n",
        "# funzione di perdita Binary Crossentropy e metrica Binary Accuracy\n",
        "model.compile(optimizer=optimizer, loss='binary_crossentropy', metrics=['binary_accuracy'])"
      ],
      "metadata": {
        "id": "2egBXa_tGv2C"
      },
      "execution_count": null,
      "outputs": []
    },
    {
      "cell_type": "markdown",
      "source": [
        "## Addestramento del modello"
      ],
      "metadata": {
        "id": "VIDbvI6lIjJ0"
      }
    },
    {
      "cell_type": "code",
      "source": [
        "from tensorflow.keras.callbacks import EarlyStopping, ReduceLROnPlateau\n",
        "# Per misurare il tempo di allenamento\n",
        "import time\n",
        "\n",
        "# Callbacks per migliorare l'addestramento\n",
        "callbacks=[\n",
        "    EarlyStopping(monitor='val_loss', patience=10, restore_best_weights=True),\n",
        "    ReduceLROnPlateau(monitor='val_loss', factor=0.5, patience=5, min_lr=1e-6)\n",
        "]\n",
        "# Avvio del cronometro per calcolare il tempo di addestramento\n",
        "start = time.perf_counter()\n",
        "# Addestramento\n",
        "history = model.fit(\n",
        "    x = x_train, # dati di input\n",
        "    y = t_train, # etichette o output attesi\n",
        "    batch_size = batch_size, # numero di campioni per batch\n",
        "    epochs = n_epochs,\n",
        "    validation_data = (x_dev,t_dev),\n",
        "    verbose = 1,\n",
        "    callbacks=callbacks\n",
        "    )\n",
        "\n",
        "print (\"Tempo di addestramento:\",time.perf_counter() - start, \"s\")"
      ],
      "metadata": {
        "colab": {
          "base_uri": "https://localhost:8080/"
        },
        "id": "Jb3h0w7HLZIs",
        "outputId": "c84a8087-4371-4ae6-cffc-967825561f4a"
      },
      "execution_count": null,
      "outputs": [
        {
          "output_type": "stream",
          "name": "stdout",
          "text": [
            "Epoch 1/150\n",
            "\u001b[1m495/495\u001b[0m \u001b[32m━━━━━━━━━━━━━━━━━━━━\u001b[0m\u001b[37m\u001b[0m \u001b[1m12s\u001b[0m 11ms/step - binary_accuracy: 0.7160 - loss: 0.5918 - val_binary_accuracy: 0.8471 - val_loss: 0.3681 - learning_rate: 0.0010\n",
            "Epoch 2/150\n",
            "\u001b[1m495/495\u001b[0m \u001b[32m━━━━━━━━━━━━━━━━━━━━\u001b[0m\u001b[37m\u001b[0m \u001b[1m6s\u001b[0m 13ms/step - binary_accuracy: 0.8387 - loss: 0.3833 - val_binary_accuracy: 0.8522 - val_loss: 0.3394 - learning_rate: 0.0010\n",
            "Epoch 3/150\n",
            "\u001b[1m495/495\u001b[0m \u001b[32m━━━━━━━━━━━━━━━━━━━━\u001b[0m\u001b[37m\u001b[0m \u001b[1m5s\u001b[0m 10ms/step - binary_accuracy: 0.8405 - loss: 0.3648 - val_binary_accuracy: 0.8537 - val_loss: 0.3348 - learning_rate: 0.0010\n",
            "Epoch 4/150\n",
            "\u001b[1m495/495\u001b[0m \u001b[32m━━━━━━━━━━━━━━━━━━━━\u001b[0m\u001b[37m\u001b[0m \u001b[1m7s\u001b[0m 14ms/step - binary_accuracy: 0.8443 - loss: 0.3592 - val_binary_accuracy: 0.8572 - val_loss: 0.3287 - learning_rate: 0.0010\n",
            "Epoch 5/150\n",
            "\u001b[1m495/495\u001b[0m \u001b[32m━━━━━━━━━━━━━━━━━━━━\u001b[0m\u001b[37m\u001b[0m \u001b[1m8s\u001b[0m 10ms/step - binary_accuracy: 0.8464 - loss: 0.3529 - val_binary_accuracy: 0.8600 - val_loss: 0.3291 - learning_rate: 0.0010\n",
            "Epoch 6/150\n",
            "\u001b[1m495/495\u001b[0m \u001b[32m━━━━━━━━━━━━━━━━━━━━\u001b[0m\u001b[37m\u001b[0m \u001b[1m7s\u001b[0m 15ms/step - binary_accuracy: 0.8489 - loss: 0.3469 - val_binary_accuracy: 0.8595 - val_loss: 0.3277 - learning_rate: 0.0010\n",
            "Epoch 7/150\n",
            "\u001b[1m495/495\u001b[0m \u001b[32m━━━━━━━━━━━━━━━━━━━━\u001b[0m\u001b[37m\u001b[0m \u001b[1m5s\u001b[0m 11ms/step - binary_accuracy: 0.8459 - loss: 0.3478 - val_binary_accuracy: 0.8605 - val_loss: 0.3253 - learning_rate: 0.0010\n",
            "Epoch 8/150\n",
            "\u001b[1m495/495\u001b[0m \u001b[32m━━━━━━━━━━━━━━━━━━━━\u001b[0m\u001b[37m\u001b[0m \u001b[1m10s\u001b[0m 11ms/step - binary_accuracy: 0.8496 - loss: 0.3423 - val_binary_accuracy: 0.8582 - val_loss: 0.3223 - learning_rate: 0.0010\n",
            "Epoch 9/150\n",
            "\u001b[1m495/495\u001b[0m \u001b[32m━━━━━━━━━━━━━━━━━━━━\u001b[0m\u001b[37m\u001b[0m \u001b[1m10s\u001b[0m 20ms/step - binary_accuracy: 0.8485 - loss: 0.3486 - val_binary_accuracy: 0.8605 - val_loss: 0.3231 - learning_rate: 0.0010\n",
            "Epoch 10/150\n",
            "\u001b[1m495/495\u001b[0m \u001b[32m━━━━━━━━━━━━━━━━━━━━\u001b[0m\u001b[37m\u001b[0m \u001b[1m5s\u001b[0m 10ms/step - binary_accuracy: 0.8497 - loss: 0.3395 - val_binary_accuracy: 0.8580 - val_loss: 0.3229 - learning_rate: 0.0010\n",
            "Epoch 11/150\n",
            "\u001b[1m495/495\u001b[0m \u001b[32m━━━━━━━━━━━━━━━━━━━━\u001b[0m\u001b[37m\u001b[0m \u001b[1m6s\u001b[0m 12ms/step - binary_accuracy: 0.8519 - loss: 0.3380 - val_binary_accuracy: 0.8590 - val_loss: 0.3226 - learning_rate: 0.0010\n",
            "Epoch 12/150\n",
            "\u001b[1m495/495\u001b[0m \u001b[32m━━━━━━━━━━━━━━━━━━━━\u001b[0m\u001b[37m\u001b[0m \u001b[1m9s\u001b[0m 11ms/step - binary_accuracy: 0.8532 - loss: 0.3357 - val_binary_accuracy: 0.8587 - val_loss: 0.3199 - learning_rate: 0.0010\n",
            "Epoch 13/150\n",
            "\u001b[1m495/495\u001b[0m \u001b[32m━━━━━━━━━━━━━━━━━━━━\u001b[0m\u001b[37m\u001b[0m \u001b[1m7s\u001b[0m 14ms/step - binary_accuracy: 0.8547 - loss: 0.3381 - val_binary_accuracy: 0.8542 - val_loss: 0.3266 - learning_rate: 0.0010\n",
            "Epoch 14/150\n",
            "\u001b[1m495/495\u001b[0m \u001b[32m━━━━━━━━━━━━━━━━━━━━\u001b[0m\u001b[37m\u001b[0m \u001b[1m9s\u001b[0m 10ms/step - binary_accuracy: 0.8502 - loss: 0.3350 - val_binary_accuracy: 0.8595 - val_loss: 0.3225 - learning_rate: 0.0010\n",
            "Epoch 15/150\n",
            "\u001b[1m495/495\u001b[0m \u001b[32m━━━━━━━━━━━━━━━━━━━━\u001b[0m\u001b[37m\u001b[0m \u001b[1m7s\u001b[0m 13ms/step - binary_accuracy: 0.8540 - loss: 0.3336 - val_binary_accuracy: 0.8580 - val_loss: 0.3203 - learning_rate: 0.0010\n",
            "Epoch 16/150\n",
            "\u001b[1m495/495\u001b[0m \u001b[32m━━━━━━━━━━━━━━━━━━━━\u001b[0m\u001b[37m\u001b[0m \u001b[1m9s\u001b[0m 12ms/step - binary_accuracy: 0.8559 - loss: 0.3311 - val_binary_accuracy: 0.8597 - val_loss: 0.3205 - learning_rate: 0.0010\n",
            "Epoch 17/150\n",
            "\u001b[1m495/495\u001b[0m \u001b[32m━━━━━━━━━━━━━━━━━━━━\u001b[0m\u001b[37m\u001b[0m \u001b[1m6s\u001b[0m 12ms/step - binary_accuracy: 0.8603 - loss: 0.3276 - val_binary_accuracy: 0.8562 - val_loss: 0.3226 - learning_rate: 0.0010\n",
            "Epoch 18/150\n",
            "\u001b[1m495/495\u001b[0m \u001b[32m━━━━━━━━━━━━━━━━━━━━\u001b[0m\u001b[37m\u001b[0m \u001b[1m5s\u001b[0m 10ms/step - binary_accuracy: 0.8562 - loss: 0.3274 - val_binary_accuracy: 0.8605 - val_loss: 0.3183 - learning_rate: 5.0000e-04\n",
            "Epoch 19/150\n",
            "\u001b[1m495/495\u001b[0m \u001b[32m━━━━━━━━━━━━━━━━━━━━\u001b[0m\u001b[37m\u001b[0m \u001b[1m7s\u001b[0m 13ms/step - binary_accuracy: 0.8557 - loss: 0.3267 - val_binary_accuracy: 0.8648 - val_loss: 0.3189 - learning_rate: 5.0000e-04\n",
            "Epoch 20/150\n",
            "\u001b[1m495/495\u001b[0m \u001b[32m━━━━━━━━━━━━━━━━━━━━\u001b[0m\u001b[37m\u001b[0m \u001b[1m5s\u001b[0m 10ms/step - binary_accuracy: 0.8596 - loss: 0.3197 - val_binary_accuracy: 0.8615 - val_loss: 0.3198 - learning_rate: 5.0000e-04\n",
            "Epoch 21/150\n",
            "\u001b[1m495/495\u001b[0m \u001b[32m━━━━━━━━━━━━━━━━━━━━\u001b[0m\u001b[37m\u001b[0m \u001b[1m6s\u001b[0m 12ms/step - binary_accuracy: 0.8614 - loss: 0.3188 - val_binary_accuracy: 0.8597 - val_loss: 0.3190 - learning_rate: 5.0000e-04\n",
            "Epoch 22/150\n",
            "\u001b[1m495/495\u001b[0m \u001b[32m━━━━━━━━━━━━━━━━━━━━\u001b[0m\u001b[37m\u001b[0m \u001b[1m9s\u001b[0m 10ms/step - binary_accuracy: 0.8584 - loss: 0.3192 - val_binary_accuracy: 0.8618 - val_loss: 0.3193 - learning_rate: 5.0000e-04\n",
            "Epoch 23/150\n",
            "\u001b[1m495/495\u001b[0m \u001b[32m━━━━━━━━━━━━━━━━━━━━\u001b[0m\u001b[37m\u001b[0m \u001b[1m7s\u001b[0m 13ms/step - binary_accuracy: 0.8618 - loss: 0.3175 - val_binary_accuracy: 0.8620 - val_loss: 0.3191 - learning_rate: 5.0000e-04\n",
            "Epoch 24/150\n",
            "\u001b[1m495/495\u001b[0m \u001b[32m━━━━━━━━━━━━━━━━━━━━\u001b[0m\u001b[37m\u001b[0m \u001b[1m5s\u001b[0m 10ms/step - binary_accuracy: 0.8635 - loss: 0.3101 - val_binary_accuracy: 0.8618 - val_loss: 0.3185 - learning_rate: 2.5000e-04\n",
            "Epoch 25/150\n",
            "\u001b[1m495/495\u001b[0m \u001b[32m━━━━━━━━━━━━━━━━━━━━\u001b[0m\u001b[37m\u001b[0m \u001b[1m6s\u001b[0m 11ms/step - binary_accuracy: 0.8667 - loss: 0.3095 - val_binary_accuracy: 0.8648 - val_loss: 0.3175 - learning_rate: 2.5000e-04\n",
            "Epoch 26/150\n",
            "\u001b[1m495/495\u001b[0m \u001b[32m━━━━━━━━━━━━━━━━━━━━\u001b[0m\u001b[37m\u001b[0m \u001b[1m6s\u001b[0m 12ms/step - binary_accuracy: 0.8651 - loss: 0.3138 - val_binary_accuracy: 0.8600 - val_loss: 0.3196 - learning_rate: 2.5000e-04\n",
            "Epoch 27/150\n",
            "\u001b[1m495/495\u001b[0m \u001b[32m━━━━━━━━━━━━━━━━━━━━\u001b[0m\u001b[37m\u001b[0m \u001b[1m5s\u001b[0m 10ms/step - binary_accuracy: 0.8652 - loss: 0.3084 - val_binary_accuracy: 0.8650 - val_loss: 0.3189 - learning_rate: 2.5000e-04\n",
            "Epoch 28/150\n",
            "\u001b[1m495/495\u001b[0m \u001b[32m━━━━━━━━━━━━━━━━━━━━\u001b[0m\u001b[37m\u001b[0m \u001b[1m7s\u001b[0m 14ms/step - binary_accuracy: 0.8694 - loss: 0.3034 - val_binary_accuracy: 0.8658 - val_loss: 0.3205 - learning_rate: 2.5000e-04\n",
            "Epoch 29/150\n",
            "\u001b[1m495/495\u001b[0m \u001b[32m━━━━━━━━━━━━━━━━━━━━\u001b[0m\u001b[37m\u001b[0m \u001b[1m5s\u001b[0m 10ms/step - binary_accuracy: 0.8681 - loss: 0.3031 - val_binary_accuracy: 0.8663 - val_loss: 0.3186 - learning_rate: 2.5000e-04\n",
            "Epoch 30/150\n",
            "\u001b[1m495/495\u001b[0m \u001b[32m━━━━━━━━━━━━━━━━━━━━\u001b[0m\u001b[37m\u001b[0m \u001b[1m6s\u001b[0m 12ms/step - binary_accuracy: 0.8656 - loss: 0.3079 - val_binary_accuracy: 0.8653 - val_loss: 0.3214 - learning_rate: 2.5000e-04\n",
            "Epoch 31/150\n",
            "\u001b[1m495/495\u001b[0m \u001b[32m━━━━━━━━━━━━━━━━━━━━\u001b[0m\u001b[37m\u001b[0m \u001b[1m9s\u001b[0m 10ms/step - binary_accuracy: 0.8701 - loss: 0.2953 - val_binary_accuracy: 0.8681 - val_loss: 0.3184 - learning_rate: 1.2500e-04\n",
            "Epoch 32/150\n",
            "\u001b[1m495/495\u001b[0m \u001b[32m━━━━━━━━━━━━━━━━━━━━\u001b[0m\u001b[37m\u001b[0m \u001b[1m7s\u001b[0m 13ms/step - binary_accuracy: 0.8710 - loss: 0.3006 - val_binary_accuracy: 0.8673 - val_loss: 0.3190 - learning_rate: 1.2500e-04\n",
            "Epoch 33/150\n",
            "\u001b[1m495/495\u001b[0m \u001b[32m━━━━━━━━━━━━━━━━━━━━\u001b[0m\u001b[37m\u001b[0m \u001b[1m5s\u001b[0m 10ms/step - binary_accuracy: 0.8685 - loss: 0.3004 - val_binary_accuracy: 0.8668 - val_loss: 0.3191 - learning_rate: 1.2500e-04\n",
            "Epoch 34/150\n",
            "\u001b[1m495/495\u001b[0m \u001b[32m━━━━━━━━━━━━━━━━━━━━\u001b[0m\u001b[37m\u001b[0m \u001b[1m6s\u001b[0m 11ms/step - binary_accuracy: 0.8658 - loss: 0.3044 - val_binary_accuracy: 0.8663 - val_loss: 0.3197 - learning_rate: 1.2500e-04\n",
            "Epoch 35/150\n",
            "\u001b[1m495/495\u001b[0m \u001b[32m━━━━━━━━━━━━━━━━━━━━\u001b[0m\u001b[37m\u001b[0m \u001b[1m10s\u001b[0m 10ms/step - binary_accuracy: 0.8717 - loss: 0.2982 - val_binary_accuracy: 0.8648 - val_loss: 0.3208 - learning_rate: 1.2500e-04\n",
            "Tempo di addestramento: 244.79435794399998 s\n"
          ]
        }
      ]
    },
    {
      "cell_type": "markdown",
      "source": [
        "## I risultati"
      ],
      "metadata": {
        "id": "Ns7zJ0zJQo_u"
      }
    },
    {
      "cell_type": "code",
      "source": [
        "results=pd.DataFrame(history.history)\n",
        "results.plot(figsize=(8, 5))\n",
        "plt.grid(True)\n",
        "plt.xlabel (\"Epochs\")\n",
        "plt.ylabel (\"Accuracy - Mean Log Loss\")\n",
        "plt.gca().set_ylim(0, 1) # imposta il range verticale nell'intervallo [0,1]\n",
        "plt.show()"
      ],
      "metadata": {
        "colab": {
          "base_uri": "https://localhost:8080/",
          "height": 440
        },
        "id": "MfQv46YMQsE3",
        "outputId": "8ce459f2-6f06-4681-cd84-2cb3c8b1193a"
      },
      "execution_count": null,
      "outputs": [
        {
          "output_type": "display_data",
          "data": {
            "text/plain": [
              "<Figure size 800x500 with 1 Axes>"
            ],
            "image/png": "[encoded data removed]"
          },
          "metadata": {}
        }
      ]
    },
    {
      "cell_type": "code",
      "source": [
        "history.params # visualizzazione dei prametri di training"
      ],
      "metadata": {
        "colab": {
          "base_uri": "https://localhost:8080/"
        },
        "id": "f9CIszt_REEG",
        "outputId": "b3eb2f9e-3760-4d5f-eb8a-f790cd67b51b",
        "collapsed": true
      },
      "execution_count": null,
      "outputs": [
        {
          "output_type": "execute_result",
          "data": {
            "text/plain": [
              "{'verbose': 1, 'epochs': 150, 'steps': 495}"
            ]
          },
          "metadata": {},
          "execution_count": 14
        }
      ]
    },
    {
      "cell_type": "code",
      "source": [
        "results[-1:] # mostra gli ultimi risultati (ultima epoca)"
      ],
      "metadata": {
        "colab": {
          "base_uri": "https://localhost:8080/",
          "height": 81
        },
        "id": "qiXpmIKsRIAE",
        "outputId": "2cf9ccaa-ce11-49a6-d30d-fb7dba35bf71"
      },
      "execution_count": null,
      "outputs": [
        {
          "output_type": "execute_result",
          "data": {
            "text/plain": [
              "    binary_accuracy      loss  val_binary_accuracy  val_loss  learning_rate\n",
              "34         0.870274  0.299868             0.864797  0.320802       0.000125"
            ],
            "text/html": [
              "\n",
              "  <div id=\"df-198925f1-36b7-4cd9-aeb5-d8cb7bfed760\" class=\"colab-df-container\">\n",
              "    <div>\n",
              "<style scoped>\n",
              "    .dataframe tbody tr th:only-of-type {\n",
              "        vertical-align: middle;\n",
              "    }\n",
              "\n",
              "    .dataframe tbody tr th {\n",
              "        vertical-align: top;\n",
              "    }\n",
              "\n",
              "    .dataframe thead th {\n",
              "        text-align: right;\n",
              "    }\n",
              "</style>\n",
              "<table border=\"1\" class=\"dataframe\">\n",
              "  <thead>\n",
              "    <tr style=\"text-align: right;\">\n",
              "      <th></th>\n",
              "      <th>binary_accuracy</th>\n",
              "      <th>loss</th>\n",
              "      <th>val_binary_accuracy</th>\n",
              "      <th>val_loss</th>\n",
              "      <th>learning_rate</th>\n",
              "    </tr>\n",
              "  </thead>\n",
              "  <tbody>\n",
              "    <tr>\n",
              "      <th>34</th>\n",
              "      <td>0.870274</td>\n",
              "      <td>0.299868</td>\n",
              "      <td>0.864797</td>\n",
              "      <td>0.320802</td>\n",
              "      <td>0.000125</td>\n",
              "    </tr>\n",
              "  </tbody>\n",
              "</table>\n",
              "</div>\n",
              "    <div class=\"colab-df-buttons\">\n",
              "\n",
              "  <div class=\"colab-df-container\">\n",
              "    <button class=\"colab-df-convert\" onclick=\"convertToInteractive('df-198925f1-36b7-4cd9-aeb5-d8cb7bfed760')\"\n",
              "            title=\"Convert this dataframe to an interactive table.\"\n",
              "            style=\"display:none;\">\n",
              "\n",
              "  <svg xmlns=\"http://www.w3.org/2000/svg\" height=\"24px\" viewBox=\"0 -960 960 960\">\n",
              "    <path d=\"M120-120v-720h720v720H120Zm60-500h600v-160H180v160Zm220 220h160v-160H400v160Zm0 220h160v-160H400v160ZM180-400h160v-160H180v160Zm440 0h160v-160H620v160ZM180-180h160v-160H180v160Zm440 0h160v-160H620v160Z\"/>\n",
              "  </svg>\n",
              "    </button>\n",
              "\n",
              "  <style>\n",
              "    .colab-df-container {\n",
              "      display:flex;\n",
              "      gap: 12px;\n",
              "    }\n",
              "\n",
              "    .colab-df-convert {\n",
              "      background-color: #E8F0FE;\n",
              "      border: none;\n",
              "      border-radius: 50%;\n",
              "      cursor: pointer;\n",
              "      display: none;\n",
              "      fill: #1967D2;\n",
              "      height: 32px;\n",
              "      padding: 0 0 0 0;\n",
              "      width: 32px;\n",
              "    }\n",
              "\n",
              "    .colab-df-convert:hover {\n",
              "      background-color: #E2EBFA;\n",
              "      box-shadow: 0px 1px 2px rgba(60, 64, 67, 0.3), 0px 1px 3px 1px rgba(60, 64, 67, 0.15);\n",
              "      fill: #174EA6;\n",
              "    }\n",
              "\n",
              "    .colab-df-buttons div {\n",
              "      margin-bottom: 4px;\n",
              "    }\n",
              "\n",
              "    [theme=dark] .colab-df-convert {\n",
              "      background-color: #3B4455;\n",
              "      fill: #D2E3FC;\n",
              "    }\n",
              "\n",
              "    [theme=dark] .colab-df-convert:hover {\n",
              "      background-color: #434B5C;\n",
              "      box-shadow: 0px 1px 3px 1px rgba(0, 0, 0, 0.15);\n",
              "      filter: drop-shadow(0px 1px 2px rgba(0, 0, 0, 0.3));\n",
              "      fill: #FFFFFF;\n",
              "    }\n",
              "  </style>\n",
              "\n",
              "    <script>\n",
              "      const buttonEl =\n",
              "        document.querySelector('#df-198925f1-36b7-4cd9-aeb5-d8cb7bfed760 button.colab-df-convert');\n",
              "      buttonEl.style.display =\n",
              "        google.colab.kernel.accessAllowed ? 'block' : 'none';\n",
              "\n",
              "      async function convertToInteractive(key) {\n",
              "        const element = document.querySelector('#df-198925f1-36b7-4cd9-aeb5-d8cb7bfed760');\n",
              "        const dataTable =\n",
              "          await google.colab.kernel.invokeFunction('convertToInteractive',\n",
              "                                                    [key], {});\n",
              "        if (!dataTable) return;\n",
              "\n",
              "        const docLinkHtml = 'Like what you see? Visit the ' +\n",
              "          '<a target=\"_blank\" href=https://colab.research.google.com/notebooks/data_table.ipynb>data table notebook</a>'\n",
              "          + ' to learn more about interactive tables.';\n",
              "        element.innerHTML = '';\n",
              "        dataTable['output_type'] = 'display_data';\n",
              "        await google.colab.output.renderOutput(dataTable, element);\n",
              "        const docLink = document.createElement('div');\n",
              "        docLink.innerHTML = docLinkHtml;\n",
              "        element.appendChild(docLink);\n",
              "      }\n",
              "    </script>\n",
              "  </div>\n",
              "\n",
              "\n",
              "    </div>\n",
              "  </div>\n"
            ],
            "application/vnd.google.colaboratory.intrinsic+json": {
              "type": "dataframe",
              "summary": "{\n  \"name\": \"results[-1:] # mostra gli ultimi risultati (ultima epoca)\",\n  \"rows\": 1,\n  \"fields\": [\n    {\n      \"column\": \"binary_accuracy\",\n      \"properties\": {\n        \"dtype\": \"number\",\n        \"std\": null,\n        \"min\": 0.8702738285064697,\n        \"max\": 0.8702738285064697,\n        \"num_unique_values\": 1,\n        \"samples\": [\n          0.8702738285064697\n        ],\n        \"semantic_type\": \"\",\n        \"description\": \"\"\n      }\n    },\n    {\n      \"column\": \"loss\",\n      \"properties\": {\n        \"dtype\": \"number\",\n        \"std\": null,\n        \"min\": 0.2998676002025604,\n        \"max\": 0.2998676002025604,\n        \"num_unique_values\": 1,\n        \"samples\": [\n          0.2998676002025604\n        ],\n        \"semantic_type\": \"\",\n        \"description\": \"\"\n      }\n    },\n    {\n      \"column\": \"val_binary_accuracy\",\n      \"properties\": {\n        \"dtype\": \"number\",\n        \"std\": null,\n        \"min\": 0.8647965788841248,\n        \"max\": 0.8647965788841248,\n        \"num_unique_values\": 1,\n        \"samples\": [\n          0.8647965788841248\n        ],\n        \"semantic_type\": \"\",\n        \"description\": \"\"\n      }\n    },\n    {\n      \"column\": \"val_loss\",\n      \"properties\": {\n        \"dtype\": \"number\",\n        \"std\": null,\n        \"min\": 0.32080233097076416,\n        \"max\": 0.32080233097076416,\n        \"num_unique_values\": 1,\n        \"samples\": [\n          0.32080233097076416\n        ],\n        \"semantic_type\": \"\",\n        \"description\": \"\"\n      }\n    },\n    {\n      \"column\": \"learning_rate\",\n      \"properties\": {\n        \"dtype\": \"number\",\n        \"std\": null,\n        \"min\": 0.0001250000059371814,\n        \"max\": 0.0001250000059371814,\n        \"num_unique_values\": 1,\n        \"samples\": [\n          0.0001250000059371814\n        ],\n        \"semantic_type\": \"\",\n        \"description\": \"\"\n      }\n    }\n  ]\n}"
            }
          },
          "metadata": {},
          "execution_count": 15
        }
      ]
    },
    {
      "cell_type": "code",
      "source": [
        "print (\"Accuracy for the training set: \", results.binary_accuracy.values[-1:][0])"
      ],
      "metadata": {
        "colab": {
          "base_uri": "https://localhost:8080/"
        },
        "id": "BgCJZfG1RRXu",
        "outputId": "0d99a51e-2408-4e53-d67e-f39421a46772"
      },
      "execution_count": null,
      "outputs": [
        {
          "output_type": "stream",
          "name": "stdout",
          "text": [
            "Accuracy for the training set:  0.8702738285064697\n"
          ]
        }
      ]
    },
    {
      "cell_type": "code",
      "source": [
        "print (\"Accuracy per il development test set: \", results.val_binary_accuracy.values[-1:][0])"
      ],
      "metadata": {
        "colab": {
          "base_uri": "https://localhost:8080/"
        },
        "id": "-SH-5TbwRTOf",
        "outputId": "314bd933-f50a-4aa1-f2b9-32289d15870e"
      },
      "execution_count": null,
      "outputs": [
        {
          "output_type": "stream",
          "name": "stdout",
          "text": [
            "Accuracy per il development test set:  0.8647965788841248\n"
          ]
        }
      ]
    },
    {
      "cell_type": "code",
      "source": [
        "dev_predictions=model.predict(x_dev).round(2)\n",
        "dev_predictions[:20]"
      ],
      "metadata": {
        "colab": {
          "base_uri": "https://localhost:8080/"
        },
        "id": "CLUcrGndwJha",
        "outputId": "a15e1752-478e-4582-ec58-f6b1ec24bae8"
      },
      "execution_count": null,
      "outputs": [
        {
          "output_type": "stream",
          "name": "stdout",
          "text": [
            "\u001b[1m124/124\u001b[0m \u001b[32m━━━━━━━━━━━━━━━━━━━━\u001b[0m\u001b[37m\u001b[0m \u001b[1m1s\u001b[0m 4ms/step\n"
          ]
        },
        {
          "output_type": "execute_result",
          "data": {
            "text/plain": [
              "array([[0.11],\n",
              "       [0.17],\n",
              "       [0.15],\n",
              "       [0.9 ],\n",
              "       [0.01],\n",
              "       [0.01],\n",
              "       [0.02],\n",
              "       [0.16],\n",
              "       [0.66],\n",
              "       [0.01],\n",
              "       [0.22],\n",
              "       [0.37],\n",
              "       [0.65],\n",
              "       [0.23],\n",
              "       [0.08],\n",
              "       [0.02],\n",
              "       [0.08],\n",
              "       [0.41],\n",
              "       [0.45],\n",
              "       [0.02]], dtype=float32)"
            ]
          },
          "metadata": {},
          "execution_count": 18
        }
      ]
    },
    {
      "cell_type": "code",
      "source": [
        "# Previsioni sul validation set (arrotondate a 2 decimali)\n",
        "dev_rounded_predictions=np.round(dev_predictions)\n",
        "indices = np.argmax(dev_predictions,1)\n",
        "for row, index in zip(dev_rounded_predictions, indices): row[index]=1\n",
        "dev_rounded_predictions[:20]"
      ],
      "metadata": {
        "colab": {
          "base_uri": "https://localhost:8080/"
        },
        "id": "KyOXLiwOynI2",
        "outputId": "f9564290-ad0b-457a-8863-670e8e417b61",
        "collapsed": true
      },
      "execution_count": null,
      "outputs": [
        {
          "output_type": "execute_result",
          "data": {
            "text/plain": [
              "array([[1.],\n",
              "       [1.],\n",
              "       [1.],\n",
              "       [1.],\n",
              "       [1.],\n",
              "       [1.],\n",
              "       [1.],\n",
              "       [1.],\n",
              "       [1.],\n",
              "       [1.],\n",
              "       [1.],\n",
              "       [1.],\n",
              "       [1.],\n",
              "       [1.],\n",
              "       [1.],\n",
              "       [1.],\n",
              "       [1.],\n",
              "       [1.],\n",
              "       [1.],\n",
              "       [1.]], dtype=float32)"
            ]
          },
          "metadata": {},
          "execution_count": 19
        }
      ]
    },
    {
      "cell_type": "code",
      "source": [
        "t_dev[:20] #target classes"
      ],
      "metadata": {
        "colab": {
          "base_uri": "https://localhost:8080/"
        },
        "id": "Z4OcVfS-yoYx",
        "outputId": "535140d7-6bae-424b-8763-d470961d59ac",
        "collapsed": true
      },
      "execution_count": null,
      "outputs": [
        {
          "output_type": "execute_result",
          "data": {
            "text/plain": [
              "array([[0],\n",
              "       [1],\n",
              "       [1],\n",
              "       [1],\n",
              "       [0],\n",
              "       [0],\n",
              "       [0],\n",
              "       [0],\n",
              "       [1],\n",
              "       [0],\n",
              "       [0],\n",
              "       [0],\n",
              "       [1],\n",
              "       [0],\n",
              "       [0],\n",
              "       [0],\n",
              "       [0],\n",
              "       [0],\n",
              "       [0],\n",
              "       [0]])"
            ]
          },
          "metadata": {},
          "execution_count": 20
        }
      ]
    },
    {
      "cell_type": "code",
      "source": [
        "dev_correct_predictions = np.equal(np.argmax(dev_rounded_predictions,1),np.argmax(t_dev,1))\n",
        "print (dev_correct_predictions[:30])"
      ],
      "metadata": {
        "colab": {
          "base_uri": "https://localhost:8080/"
        },
        "id": "btvhV8vJysqC",
        "outputId": "a774c652-8c7b-42e1-83f1-af0969f98872",
        "collapsed": true
      },
      "execution_count": null,
      "outputs": [
        {
          "output_type": "stream",
          "name": "stdout",
          "text": [
            "[ True  True  True  True  True  True  True  True  True  True  True  True\n",
            "  True  True  True  True  True  True  True  True  True  True  True  True\n",
            "  True  True  True  True  True  True]\n"
          ]
        }
      ]
    },
    {
      "cell_type": "code",
      "source": [
        "from collections import Counter\n",
        "Counter (dev_correct_predictions)"
      ],
      "metadata": {
        "colab": {
          "base_uri": "https://localhost:8080/"
        },
        "id": "DdPWNDsUy1VK",
        "outputId": "cb9a695a-f86b-42ab-8d87-6a5b4d5dc152"
      },
      "execution_count": null,
      "outputs": [
        {
          "output_type": "execute_result",
          "data": {
            "text/plain": [
              "Counter({np.True_: 3957})"
            ]
          },
          "metadata": {},
          "execution_count": 22
        }
      ]
    },
    {
      "cell_type": "markdown",
      "source": [
        "## Test finale"
      ],
      "metadata": {
        "id": "s-sZb4qSwC0y"
      }
    },
    {
      "cell_type": "code",
      "source": [
        "# Il 10% rimanente del dataset viene utilizzato per il test finale\n",
        "n_final_test = n_instances-n_train-n_dev\n",
        "\n",
        "x_final_test = attributes.values[n_train+n_dev:n_instances]\n",
        "t_final_test = label.values[n_train+n_dev:n_instances]\n",
        "\n",
        "print (\"x_test:\",x_final_test.shape)\n",
        "print (\"t_test:\",t_final_test.shape)"
      ],
      "metadata": {
        "colab": {
          "base_uri": "https://localhost:8080/"
        },
        "id": "Ntr0y910zC8a",
        "outputId": "3f39d7f5-8079-4ce2-ca4c-401d100ae0e8"
      },
      "execution_count": null,
      "outputs": [
        {
          "output_type": "stream",
          "name": "stdout",
          "text": [
            "x_test: (3958, 21)\n",
            "t_test: (3958, 1)\n"
          ]
        }
      ]
    },
    {
      "cell_type": "code",
      "source": [
        "model.evaluate(x_final_test, t_final_test)"
      ],
      "metadata": {
        "colab": {
          "base_uri": "https://localhost:8080/"
        },
        "id": "Qo6oHZ8t0tGi",
        "outputId": "c09c7914-8584-4402-b2f1-4aa1a03a4f63"
      },
      "execution_count": null,
      "outputs": [
        {
          "output_type": "stream",
          "name": "stdout",
          "text": [
            "\u001b[1m124/124\u001b[0m \u001b[32m━━━━━━━━━━━━━━━━━━━━\u001b[0m\u001b[37m\u001b[0m \u001b[1m1s\u001b[0m 5ms/step - binary_accuracy: 0.8580 - loss: 0.3333\n"
          ]
        },
        {
          "output_type": "execute_result",
          "data": {
            "text/plain": [
              "[0.31729796528816223, 0.8620515465736389]"
            ]
          },
          "metadata": {},
          "execution_count": 24
        }
      ]
    },
    {
      "cell_type": "code",
      "source": [
        "test_predictions=model.predict(x_final_test)\n",
        "test_rounded_predictions=np.round(test_predictions)\n",
        "indices = np.argmax(test_predictions,1)\n",
        "for row, index in zip(test_rounded_predictions, indices): row[index]=1\n",
        "test_rounded_predictions[:20]"
      ],
      "metadata": {
        "colab": {
          "base_uri": "https://localhost:8080/"
        },
        "id": "-QZvjf-C04Lx",
        "outputId": "7fe40e23-9dc8-4b58-91aa-7d10e4d3c67a"
      },
      "execution_count": null,
      "outputs": [
        {
          "output_type": "stream",
          "name": "stdout",
          "text": [
            "\u001b[1m124/124\u001b[0m \u001b[32m━━━━━━━━━━━━━━━━━━━━\u001b[0m\u001b[37m\u001b[0m \u001b[1m0s\u001b[0m 3ms/step\n"
          ]
        },
        {
          "output_type": "execute_result",
          "data": {
            "text/plain": [
              "array([[1.],\n",
              "       [1.],\n",
              "       [1.],\n",
              "       [1.],\n",
              "       [1.],\n",
              "       [1.],\n",
              "       [1.],\n",
              "       [1.],\n",
              "       [1.],\n",
              "       [1.],\n",
              "       [1.],\n",
              "       [1.],\n",
              "       [1.],\n",
              "       [1.],\n",
              "       [1.],\n",
              "       [1.],\n",
              "       [1.],\n",
              "       [1.],\n",
              "       [1.],\n",
              "       [1.]], dtype=float32)"
            ]
          },
          "metadata": {},
          "execution_count": 25
        }
      ]
    },
    {
      "cell_type": "code",
      "source": [
        "t_final_test[:20]"
      ],
      "metadata": {
        "colab": {
          "base_uri": "https://localhost:8080/"
        },
        "id": "9BLxOR_E058C",
        "outputId": "91480fef-65d3-4202-8fe3-f80c52ba20c2"
      },
      "execution_count": null,
      "outputs": [
        {
          "output_type": "execute_result",
          "data": {
            "text/plain": [
              "array([[0],\n",
              "       [0],\n",
              "       [0],\n",
              "       [0],\n",
              "       [0],\n",
              "       [1],\n",
              "       [0],\n",
              "       [0],\n",
              "       [1],\n",
              "       [1],\n",
              "       [0],\n",
              "       [0],\n",
              "       [0],\n",
              "       [1],\n",
              "       [1],\n",
              "       [0],\n",
              "       [0],\n",
              "       [0],\n",
              "       [0],\n",
              "       [0]])"
            ]
          },
          "metadata": {},
          "execution_count": 26
        }
      ]
    },
    {
      "cell_type": "code",
      "source": [
        "test_correct_predictions = np.equal(np.argmax(test_rounded_predictions,1),np.argmax(t_final_test,1))\n",
        "test_correct_predictions[:30]\n",
        "# Prime 30 predizioni, True = corretto"
      ],
      "metadata": {
        "colab": {
          "base_uri": "https://localhost:8080/"
        },
        "id": "iKGvTR0q072p",
        "outputId": "ba054d99-e527-4f3c-92f4-6d349d52e539"
      },
      "execution_count": null,
      "outputs": [
        {
          "output_type": "execute_result",
          "data": {
            "text/plain": [
              "array([ True,  True,  True,  True,  True,  True,  True,  True,  True,\n",
              "        True,  True,  True,  True,  True,  True,  True,  True,  True,\n",
              "        True,  True,  True,  True,  True,  True,  True,  True,  True,\n",
              "        True,  True,  True])"
            ]
          },
          "metadata": {},
          "execution_count": 27
        }
      ]
    },
    {
      "cell_type": "code",
      "source": [
        "final_test_prediction_results=Counter(test_correct_predictions)\n",
        "final_test_prediction_results"
      ],
      "metadata": {
        "colab": {
          "base_uri": "https://localhost:8080/"
        },
        "id": "AdxWIzZ10_uS",
        "outputId": "e1bd87f7-8a3f-4084-a085-d0aa13fed3e7"
      },
      "execution_count": null,
      "outputs": [
        {
          "output_type": "execute_result",
          "data": {
            "text/plain": [
              "Counter({np.True_: 3958})"
            ]
          },
          "metadata": {},
          "execution_count": 28
        }
      ]
    },
    {
      "cell_type": "code",
      "source": [
        "final_test_prediction_results[True]/sum(final_test_prediction_results.values())"
      ],
      "metadata": {
        "colab": {
          "base_uri": "https://localhost:8080/"
        },
        "id": "JERwerib1Peq",
        "outputId": "4df558c0-ffe9-499c-bd23-a4ad41dc17d0"
      },
      "execution_count": null,
      "outputs": [
        {
          "output_type": "execute_result",
          "data": {
            "text/plain": [
              "1.0"
            ]
          },
          "metadata": {},
          "execution_count": 29
        }
      ]
    },
    {
      "cell_type": "code",
      "source": [
        "from sklearn.metrics import accuracy_score, precision_score, recall_score, f1_score, confusion_matrix, ConfusionMatrixDisplay\n",
        "\n",
        "t_pred_prob = model.predict(x_final_test)\n",
        "t_pred = (t_pred_prob > 0.5).astype(int)\n",
        "\n",
        "accuracy = accuracy_score(t_final_test, t_pred)\n",
        "precision = precision_score(t_final_test, t_pred)\n",
        "recall = recall_score(t_final_test, t_pred)\n",
        "f1 = f1_score(t_final_test, t_pred)\n",
        "\n",
        "print(f\"Accuracy: {accuracy:.4f}\")\n",
        "print(f\"Precision: {precision:.4f}\")\n",
        "print(f\"Recall: {recall:.4f}\")\n",
        "print(f\"F1 Score: {f1:.4f}\")\n",
        "\n",
        "# Matrice di confusione\n",
        "conf_matrix = confusion_matrix(t_final_test, t_pred)\n",
        "disp = ConfusionMatrixDisplay(conf_matrix, display_labels=[\"No Rain\", \"Rain\"])\n",
        "disp.plot()\n",
        "plt.show()"
      ],
      "metadata": {
        "colab": {
          "base_uri": "https://localhost:8080/",
          "height": 536
        },
        "id": "Koabbiyc0qS7",
        "outputId": "3e9fdc89-c9c0-429c-c1cc-fa98a67aff53"
      },
      "execution_count": null,
      "outputs": [
        {
          "output_type": "stream",
          "name": "stdout",
          "text": [
            "\u001b[1m124/124\u001b[0m \u001b[32m━━━━━━━━━━━━━━━━━━━━\u001b[0m\u001b[37m\u001b[0m \u001b[1m0s\u001b[0m 3ms/step\n",
            "Accuracy: 0.8621\n",
            "Precision: 0.7423\n",
            "Recall: 0.5593\n",
            "F1 Score: 0.6379\n"
          ]
        },
        {
          "output_type": "display_data",
          "data": {
            "text/plain": [
              "<Figure size 640x480 with 2 Axes>"
            ],
            "image/png": "[encoded data removed]"
          },
          "metadata": {}
        }
      ]
    },
    {
      "cell_type": "code",
      "source": [
        "plt.figure(figsize=(10, 6))\n",
        "\n",
        "# Accuracy Plot\n",
        "plt.subplot(1, 2, 1)\n",
        "plt.plot(history.history['binary_accuracy'], label='Train Accuracy')\n",
        "plt.plot(history.history['val_binary_accuracy'], label='Validation Accuracy')\n",
        "plt.xlabel('Epochs')\n",
        "plt.ylabel('Accuracy')\n",
        "plt.legend()\n",
        "plt.title('Model Accuracy')\n",
        "\n",
        "# Loss Plot\n",
        "plt.subplot(1, 2, 2)\n",
        "plt.plot(history.history['loss'], label='Train Loss')\n",
        "plt.plot(history.history['val_loss'], label='Validation Loss')\n",
        "plt.xlabel('Epochs')\n",
        "plt.ylabel('Loss')\n",
        "plt.legend()\n",
        "plt.title('Model Loss')\n",
        "\n",
        "plt.show()\n"
      ],
      "metadata": {
        "colab": {
          "base_uri": "https://localhost:8080/",
          "height": 428
        },
        "id": "azDQxGXUbL0G",
        "outputId": "1d7aef9f-933f-41ad-a0a2-ad4bd1e04df2"
      },
      "execution_count": null,
      "outputs": [
        {
          "output_type": "display_data",
          "data": {
            "text/plain": [
              "<Figure size 1000x600 with 2 Axes>"
            ],
            "image/png": "[encoded data removed]"
          },
          "metadata": {}
        }
      ]
    },
    {
      "cell_type": "code",
      "source": [
        "train_acc = history.history['binary_accuracy'][-1]\n",
        "val_acc = history.history['val_binary_accuracy'][-1]\n",
        "\n",
        "print(f\"Final Training Accuracy: {train_acc:.4f}\")\n",
        "print(f\"Final Validation Accuracy: {val_acc:.4f}\")\n",
        "\n",
        "if abs(train_acc - val_acc) > 0.05:\n",
        "    print(\"high variance\")\n",
        "elif train_acc < 0.75 and val_acc < 0.75:\n",
        "    print(\"high bias\")\n",
        "else:\n",
        "    print(\"Model has a good bias-variance tradeoff!\")\n"
      ],
      "metadata": {
        "colab": {
          "base_uri": "https://localhost:8080/"
        },
        "id": "2KOxyY6fiEyx",
        "outputId": "a81525d1-30e1-4d6e-c062-b1c13fe0e676"
      },
      "execution_count": null,
      "outputs": [
        {
          "output_type": "stream",
          "name": "stdout",
          "text": [
            "Final Training Accuracy: 0.8703\n",
            "Final Validation Accuracy: 0.8648\n",
            "Model has a good bias-variance tradeoff!\n"
          ]
        }
      ]
    },
    {
      "cell_type": "code",
      "source": [
        "# Valori finali della loss\n",
        "train_loss = history.history['loss'][-1]\n",
        "val_loss = history.history['val_loss'][-1]\n",
        "\n",
        "print(f\"Training Loss finale: {train_loss:.4f}\")\n",
        "print(f\"Validation Loss finale: {val_loss:.4f}\")\n",
        "\n",
        "if val_loss > train_loss + 0.05:\n",
        "    print(\"alta varianza\")\n",
        "elif train_loss > 0.5 and val_loss > 0.5:\n",
        "    print(\"alto bias\")\n",
        "else:\n",
        "    print(\"Modello ha un buon equilibrio tra bias e varianza\")\n"
      ],
      "metadata": {
        "colab": {
          "base_uri": "https://localhost:8080/"
        },
        "id": "Z-HNMJ-riKQd",
        "outputId": "2fdcd9f5-ef26-4e96-8564-1af6e68ad47c"
      },
      "execution_count": null,
      "outputs": [
        {
          "output_type": "stream",
          "name": "stdout",
          "text": [
            "Training Loss finale: 0.2999\n",
            "Validation Loss finale: 0.3208\n",
            "Modello ha un buon equilibrio tra bias e varianza\n"
          ]
        }
      ]
    },
    {
      "cell_type": "code",
      "source": [
        "from sklearn.metrics import precision_score, recall_score, f1_score\n",
        "\n",
        "t_train_pred = (model.predict(x_train) > 0.5).astype(int)\n",
        "\n",
        "t_test_pred = (model.predict(x_final_test) > 0.5).astype(int)\n",
        "\n",
        "train_precision = precision_score(t_train, t_train_pred)\n",
        "test_precision = precision_score(t_final_test, t_test_pred)\n",
        "\n",
        "train_recall = recall_score(t_train, t_train_pred)\n",
        "test_recall = recall_score(t_final_test, t_test_pred)\n",
        "\n",
        "train_f1 = f1_score(t_train, t_train_pred, average='binary')\n",
        "test_f1 = f1_score(t_final_test, t_test_pred, average='binary')\n",
        "\n",
        "print(f\"Train Precision: {train_precision:.4f}, Test Precision: {test_precision:.4f}\")\n",
        "print(f\"Train Recall: {train_recall:.4f}, Test Recall: {test_recall:.4f}\")\n",
        "print(f\"Train F1 Score: {train_f1:.4f}, Test F1 Score: {test_f1:.4f}\")\n",
        "\n",
        "if abs(train_f1 - test_f1) > 0.05:\n",
        "    print(\"Test performance è peggio della performance del Train\")\n",
        "elif train_f1 < 0.6 and test_f1 < 0.6:\n",
        "    print(\"Entrambi train e test scores sono bassi\")\n",
        "else:\n",
        "    print(\"Modello generalizza bene\")\n"
      ],
      "metadata": {
        "colab": {
          "base_uri": "https://localhost:8080/"
        },
        "id": "sG8ym1NtiMZw",
        "outputId": "1e4a5768-2932-4506-ab86-c96c4405a429"
      },
      "execution_count": null,
      "outputs": [
        {
          "output_type": "stream",
          "name": "stdout",
          "text": [
            "\u001b[1m990/990\u001b[0m \u001b[32m━━━━━━━━━━━━━━━━━━━━\u001b[0m\u001b[37m\u001b[0m \u001b[1m2s\u001b[0m 2ms/step\n",
            "\u001b[1m124/124\u001b[0m \u001b[32m━━━━━━━━━━━━━━━━━━━━\u001b[0m\u001b[37m\u001b[0m \u001b[1m0s\u001b[0m 2ms/step\n",
            "Train Precision: 0.7977, Test Precision: 0.7423\n",
            "Train Recall: 0.5945, Test Recall: 0.5593\n",
            "Train F1 Score: 0.6813, Test F1 Score: 0.6379\n",
            "Modello generalizza bene\n"
          ]
        }
      ]
    },
    {
      "cell_type": "code",
      "source": [
        "# Report di classificazione\n",
        "print(classification_report(t_final_test,t_test_pred,target_names=['No_Rain','Rain']))"
      ],
      "metadata": {
        "id": "OfO63IHYiYU0",
        "colab": {
          "base_uri": "https://localhost:8080/"
        },
        "outputId": "ff6792cc-b627-4163-ec01-141044222e47"
      },
      "execution_count": null,
      "outputs": [
        {
          "output_type": "stream",
          "name": "stdout",
          "text": [
            "              precision    recall  f1-score   support\n",
            "\n",
            "     No_Rain       0.89      0.95      0.91      3098\n",
            "        Rain       0.74      0.56      0.64       860\n",
            "\n",
            "    accuracy                           0.86      3958\n",
            "   macro avg       0.81      0.75      0.78      3958\n",
            "weighted avg       0.85      0.86      0.85      3958\n",
            "\n"
          ]
        }
      ]
    },
    {
      "cell_type": "markdown",
      "source": [
        "## Conclusioni\n",
        "\n",
        "In questo progetto è stata sviluppata una rete neurale profonda per la previsione della pioggia del giorno successivo in Australia, utilizzando un dataset meteorologico reale.\n",
        "\n",
        "Dopo una fase di preprocessing condotta separatamente (normalizzazione, encoding, gestione dei missing values), è stato progettato e ottimizzato un modello con 7 layer nascosti, regolarizzato tramite **dropout** e **batch normalization**, e addestrato con l’ottimizzatore **Adam**.\n",
        "\n",
        "Durante la fase sperimentale sono state testate diverse configurazioni di iperparametri e tecniche di ottimizzazione. Il modello finale ha raggiunto:\n",
        "- Accuracy su test finale: 0.84\n",
        "- Bias stimato: 14.86%\n",
        "- Varianza stimata: 0.24%\n",
        "- F1-score test: 0.66\n",
        "\n",
        "Il bilanciamento delle classi è stato gestito efficacemente tramite `class_weight='balanced'` durante l’addestramento, senza alterare il dataset tramite oversampling.\n",
        "\n",
        "Il modello ha dimostrato buona capacità di generalizzazione, evitando overfitting e mantenendo performance stabili sia su training che test set."
      ],
      "metadata": {
        "id": "DuT1gA_hs-O7"
      }
    }
  ]
}